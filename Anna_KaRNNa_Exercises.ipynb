{
 "cells": [
  {
   "cell_type": "markdown",
   "metadata": {},
   "source": [
    "# Anna KaRNNa\n",
    "\n",
    "In this notebook, we'll build a character-wise RNN trained on Anna Karenina, one of my all-time favorite books. It'll be able to generate new text based on the text from the book.\n",
    "\n",
    "This network is based off of Andrej Karpathy's [post on RNNs](http://karpathy.github.io/2015/05/21/rnn-effectiveness/) and [implementation in Torch](https://github.com/karpathy/char-rnn). Also, some information [here at r2rt](http://r2rt.com/recurrent-neural-networks-in-tensorflow-ii.html) and from [Sherjil Ozair](https://github.com/sherjilozair/char-rnn-tensorflow) on GitHub. Below is the general architecture of the character-wise RNN.\n",
    "\n",
    "<img src=\"assets/charseq.jpeg\" width=\"500\">"
   ]
  },
  {
   "cell_type": "code",
   "execution_count": 147,
   "metadata": {
    "collapsed": true
   },
   "outputs": [],
   "source": [
    "import time\n",
    "from collections import namedtuple\n",
    "\n",
    "import numpy as np\n",
    "import tensorflow as tf"
   ]
  },
  {
   "cell_type": "markdown",
   "metadata": {},
   "source": [
    "First we'll load the text file and convert it into integers for our network to use. Here I'm creating a couple dictionaries to convert the characters to and from integers. Encoding the characters as integers makes it easier to use as input in the network."
   ]
  },
  {
   "cell_type": "code",
   "execution_count": 148,
   "metadata": {
    "collapsed": true
   },
   "outputs": [],
   "source": [
    "with open('anna.txt', 'r') as f:\n",
    "    text=f.read()\n",
    "vocab = sorted(set(text))\n",
    "vocab_to_int = {c: i for i, c in enumerate(vocab)}\n",
    "int_to_vocab = dict(enumerate(vocab))\n",
    "encoded = np.array([vocab_to_int[c] for c in text], dtype=np.int32)"
   ]
  },
  {
   "cell_type": "markdown",
   "metadata": {},
   "source": [
    "Let's check out the first 100 characters, make sure everything is peachy. According to the [American Book Review](http://americanbookreview.org/100bestlines.asp), this is the 6th best first line of a book ever."
   ]
  },
  {
   "cell_type": "code",
   "execution_count": 149,
   "metadata": {},
   "outputs": [
    {
     "data": {
      "text/plain": [
       "'Chapter 1\\n\\n\\nHappy families are all alike; every unhappy family is unhappy in its own\\nway.\\n\\nEverythin'"
      ]
     },
     "execution_count": 149,
     "metadata": {},
     "output_type": "execute_result"
    }
   ],
   "source": [
    "text[:100]"
   ]
  },
  {
   "cell_type": "markdown",
   "metadata": {},
   "source": [
    "And we can see the characters encoded as integers."
   ]
  },
  {
   "cell_type": "code",
   "execution_count": 150,
   "metadata": {},
   "outputs": [
    {
     "data": {
      "text/plain": [
       "array([31, 64, 57, 72, 76, 61, 74,  1, 16,  0,  0,  0, 36, 57, 72, 72, 81,\n",
       "        1, 62, 57, 69, 65, 68, 65, 61, 75,  1, 57, 74, 61,  1, 57, 68, 68,\n",
       "        1, 57, 68, 65, 67, 61, 26,  1, 61, 78, 61, 74, 81,  1, 77, 70, 64,\n",
       "       57, 72, 72, 81,  1, 62, 57, 69, 65, 68, 81,  1, 65, 75,  1, 77, 70,\n",
       "       64, 57, 72, 72, 81,  1, 65, 70,  1, 65, 76, 75,  1, 71, 79, 70,  0,\n",
       "       79, 57, 81, 13,  0,  0, 33, 78, 61, 74, 81, 76, 64, 65, 70], dtype=int32)"
      ]
     },
     "execution_count": 150,
     "metadata": {},
     "output_type": "execute_result"
    }
   ],
   "source": [
    "encoded[:100]"
   ]
  },
  {
   "cell_type": "markdown",
   "metadata": {},
   "source": [
    "Since the network is working with individual characters, it's similar to a classification problem in which we are trying to predict the next character from the previous text.  Here's how many 'classes' our network has to pick from."
   ]
  },
  {
   "cell_type": "code",
   "execution_count": 151,
   "metadata": {},
   "outputs": [
    {
     "data": {
      "text/plain": [
       "83"
      ]
     },
     "execution_count": 151,
     "metadata": {},
     "output_type": "execute_result"
    }
   ],
   "source": [
    "len(vocab)"
   ]
  },
  {
   "cell_type": "markdown",
   "metadata": {},
   "source": [
    "## Making training mini-batches\n",
    "\n",
    "Here is where we'll make our mini-batches for training. Remember that we want our batches to be multiple sequences of some desired number of sequence steps. Considering a simple example, our batches would look like this:\n",
    "\n",
    "<img src=\"assets/sequence_batching@1x.png\" width=500px>\n",
    "\n",
    "\n",
    "<br>\n",
    "We have our text encoded as integers as one long array in `encoded`. Let's create a function that will give us an iterator for our batches. I like using [generator functions](https://jeffknupp.com/blog/2013/04/07/improve-your-python-yield-and-generators-explained/) to do this. Then we can pass `encoded` into this function and get our batch generator.\n",
    "\n",
    "The first thing we need to do is discard some of the text so we only have completely full batches. Each batch contains $N \\times M$ characters, where $N$ is the batch size (the number of sequences) and $M$ is the number of steps. Then, to get the number of batches we can make from some array `arr`, you divide the length of `arr` by the ~~batch size~~ number of characters in a batch, or $N \\times M$. Once you know the number of batches and the batch size, you can get the total number of characters to keep.\n",
    "\n",
    "After that, we need to split `arr` into $N$ sequences. You can do this using `arr.reshape(size)` where `size` is a tuple containing the dimensions sizes of the reshaped array. We know we want $N$ sequences (`n_seqs` below), let's make that the size of the first dimension. For the second dimension, you can use `-1` as a placeholder in the size, it'll fill up the array with the appropriate data for you. After this, you should have an array that is $N \\times (M * K)$ where $K$ is the number of batches.\n",
    "\n",
    "Now that we have this array, we can iterate through it to get our batches. The idea is each batch is a $N \\times M$ window on the array. For each subsequent batch, the window moves over by `n_steps`. We also want to create both the input and target arrays. Remember that the targets are the inputs shifted over one character. You'll usually see the first input character used as the last target character, so something like this:\n",
    "```python\n",
    "y[:, :-1], y[:, -1] = x[:, 1:], x[:, 0]\n",
    "```\n",
    "where `x` is the input batch and `y` is the target batch.\n",
    "\n",
    "The way I like to do this window is use `range` to take steps of size `n_steps` from $0$ to `arr.shape[1]`, the total number of steps in each sequence. That way, the integers you get from `range` always point to the start of a batch, and each window is `n_steps` wide.\n",
    "\n",
    "> **Exercise:** Write the code for creating batches in the function below. The exercises in this notebook _will not be easy_. I've provided a notebook with solutions alongside this notebook. If you get stuck, checkout the solutions. The most important thing is that you don't copy and paste the code into here, **type out the solution code yourself.**"
   ]
  },
  {
   "cell_type": "code",
   "execution_count": 152,
   "metadata": {
    "collapsed": true
   },
   "outputs": [],
   "source": [
    "def get_batches(arr, n_seqs, n_steps):\n",
    "    '''Create a generator that returns batches of size\n",
    "       n_seqs x n_steps from arr.\n",
    "       \n",
    "       Arguments\n",
    "       ---------\n",
    "       arr: Array you want to make batches from\n",
    "       n_seqs: Batch size, the number of sequences per batch\n",
    "       n_steps: Number of sequence steps per batch\n",
    "    '''\n",
    "    # Get the number of characters per batch and number of batches we can make\n",
    "    characters_per_batch = n_seqs * n_steps\n",
    "    n_batches = len(arr) // characters_per_batch\n",
    "    \n",
    "    # Keep only enough characters to make full batches\n",
    "    arr = arr[:(n_batches * characters_per_batch)]\n",
    "    \n",
    "    # Reshape into n_seqs rows\n",
    "    arr = np.reshape(arr, (n_seqs, -1))\n",
    "    \n",
    "    for n in range(0, arr.shape[1], n_steps):\n",
    "        # The features\n",
    "        x = arr[:, n : n + n_steps]\n",
    "        # The targets, shifted by one\n",
    "        y = np.roll(x, -1, axis=1)\n",
    "        # or\n",
    "        # y = np.zeros_like(x)\n",
    "        # y[:, :-1], y[:, -1] = x[:, 1:], x[:, 0]\n",
    "        yield x, y"
   ]
  },
  {
   "cell_type": "markdown",
   "metadata": {},
   "source": [
    "Now I'll make my data sets and we can check out what's going on here. Here I'm going to use a batch size of 10 and 50 sequence steps."
   ]
  },
  {
   "cell_type": "code",
   "execution_count": 153,
   "metadata": {
    "collapsed": true
   },
   "outputs": [],
   "source": [
    "batches = get_batches(encoded, 10, 50)\n",
    "x, y = next(batches)"
   ]
  },
  {
   "cell_type": "code",
   "execution_count": 154,
   "metadata": {},
   "outputs": [
    {
     "name": "stdout",
     "output_type": "stream",
     "text": [
      "x\n",
      " [[31 64 57 72 76 61 74  1 16  0]\n",
      " [ 1 57 69  1 70 71 76  1 63 71]\n",
      " [78 65 70 13  0  0  3 53 61 75]\n",
      " [70  1 60 77 74 65 70 63  1 64]\n",
      " [ 1 65 76  1 65 75 11  1 75 65]\n",
      " [ 1 37 76  1 79 57 75  0 71 70]\n",
      " [64 61 70  1 59 71 69 61  1 62]\n",
      " [26  1 58 77 76  1 70 71 79  1]\n",
      " [76  1 65 75 70  7 76 13  1 48]\n",
      " [ 1 75 57 65 60  1 76 71  1 64]]\n",
      "\n",
      "y\n",
      " [[64 57 72 76 61 74  1 16  0  0]\n",
      " [57 69  1 70 71 76  1 63 71 65]\n",
      " [65 70 13  0  0  3 53 61 75 11]\n",
      " [ 1 60 77 74 65 70 63  1 64 65]\n",
      " [65 76  1 65 75 11  1 75 65 74]\n",
      " [37 76  1 79 57 75  0 71 70 68]\n",
      " [61 70  1 59 71 69 61  1 62 71]\n",
      " [ 1 58 77 76  1 70 71 79  1 75]\n",
      " [ 1 65 75 70  7 76 13  1 48 64]\n",
      " [75 57 65 60  1 76 71  1 64 61]]\n"
     ]
    }
   ],
   "source": [
    "print('x\\n', x[:10, :10])\n",
    "print('\\ny\\n', y[:10, :10])\n",
    "# print('x\\n', x)\n",
    "# print('\\ny\\n', y)"
   ]
  },
  {
   "cell_type": "markdown",
   "metadata": {},
   "source": [
    "If you implemented `get_batches` correctly, the above output should look something like \n",
    "```\n",
    "x\n",
    " [[55 63 69 22  6 76 45  5 16 35]\n",
    " [ 5 69  1  5 12 52  6  5 56 52]\n",
    " [48 29 12 61 35 35  8 64 76 78]\n",
    " [12  5 24 39 45 29 12 56  5 63]\n",
    " [ 5 29  6  5 29 78 28  5 78 29]\n",
    " [ 5 13  6  5 36 69 78 35 52 12]\n",
    " [63 76 12  5 18 52  1 76  5 58]\n",
    " [34  5 73 39  6  5 12 52 36  5]\n",
    " [ 6  5 29 78 12 79  6 61  5 59]\n",
    " [ 5 78 69 29 24  5  6 52  5 63]]\n",
    "\n",
    "y\n",
    " [[63 69 22  6 76 45  5 16 35 35]\n",
    " [69  1  5 12 52  6  5 56 52 29]\n",
    " [29 12 61 35 35  8 64 76 78 28]\n",
    " [ 5 24 39 45 29 12 56  5 63 29]\n",
    " [29  6  5 29 78 28  5 78 29 45]\n",
    " [13  6  5 36 69 78 35 52 12 43]\n",
    " [76 12  5 18 52  1 76  5 58 52]\n",
    " [ 5 73 39  6  5 12 52 36  5 78]\n",
    " [ 5 29 78 12 79  6 61  5 59 63]\n",
    " [78 69 29 24  5  6 52  5 63 76]]\n",
    " ```\n",
    " although the exact numbers will be different. Check to make sure the data is shifted over one step for `y`."
   ]
  },
  {
   "cell_type": "markdown",
   "metadata": {},
   "source": [
    "## Building the model\n",
    "\n",
    "Below is where you'll build the network. We'll break it up into parts so it's easier to reason about each bit. Then we can connect them up into the whole network.\n",
    "\n",
    "<img src=\"assets/charRNN.png\" width=500px>\n",
    "\n",
    "\n",
    "### Inputs\n",
    "\n",
    "First off we'll create our input placeholders. As usual we need placeholders for the training data and the targets. We'll also create a placeholder for dropout layers called `keep_prob`. This will be a scalar, that is a 0-D tensor. To make a scalar, you create a placeholder without giving it a size.\n",
    "\n",
    "> **Exercise:** Create the input placeholders in the function below."
   ]
  },
  {
   "cell_type": "code",
   "execution_count": 155,
   "metadata": {
    "collapsed": true
   },
   "outputs": [],
   "source": [
    "def build_inputs(batch_size, num_steps):\n",
    "    ''' Define placeholders for inputs, targets, and dropout \n",
    "    \n",
    "        Arguments\n",
    "        ---------\n",
    "        batch_size: Batch size, number of sequences per batch\n",
    "        num_steps: Number of sequence steps in a batch\n",
    "        \n",
    "    '''\n",
    "    # Declare placeholders we'll feed into the graph\n",
    "    inputs = tf.placeholder(tf.int32, shape=(batch_size, num_steps), name=\"inputs\")\n",
    "    targets = tf.placeholder(tf.int32, shape=(batch_size, num_steps), name=\"targets\")\n",
    "    \n",
    "    # Keep probability placeholder for drop out layers\n",
    "    keep_prob = tf.placeholder(tf.float32, name=\"keep_prob\")\n",
    "    \n",
    "    return inputs, targets, keep_prob"
   ]
  },
  {
   "cell_type": "markdown",
   "metadata": {},
   "source": [
    "### LSTM Cell\n",
    "\n",
    "Here we will create the LSTM cell we'll use in the hidden layer. We'll use this cell as a building block for the RNN. So we aren't actually defining the RNN here, just the type of cell we'll use in the hidden layer.\n",
    "\n",
    "We first create a basic LSTM cell with\n",
    "\n",
    "```python\n",
    "lstm = tf.contrib.rnn.BasicLSTMCell(num_units)\n",
    "```\n",
    "\n",
    "where `num_units` is the number of units in the hidden layers in the cell. Then we can add dropout by wrapping it with \n",
    "\n",
    "```python\n",
    "tf.contrib.rnn.DropoutWrapper(lstm, output_keep_prob=keep_prob)\n",
    "```\n",
    "You pass in a cell and it will automatically add dropout to the inputs or outputs. Finally, we can stack up the LSTM cells into layers with [`tf.contrib.rnn.MultiRNNCell`](https://www.tensorflow.org/versions/r1.0/api_docs/python/tf/contrib/rnn/MultiRNNCell). With this, you pass in a list of cells and it will send the output of one cell into the next cell. Previously with TensorFlow 1.0, you could do this\n",
    "\n",
    "```python\n",
    "tf.contrib.rnn.MultiRNNCell([cell]*num_layers)\n",
    "```\n",
    "\n",
    "This might look a little weird if you know Python well because this will create a list of the same `cell` object. However, TensorFlow 1.0 will create different weight matrices for all `cell` objects. But, starting with TensorFlow 1.1 you actually need to create new cell objects in the list. To get it to work in TensorFlow 1.1, it should look like\n",
    "\n",
    "```python\n",
    "def build_cell(num_units, keep_prob):\n",
    "    lstm = tf.contrib.rnn.BasicLSTMCell(num_units)\n",
    "    drop = tf.contrib.rnn.DropoutWrapper(lstm, output_keep_prob=keep_prob)\n",
    "    \n",
    "    return drop\n",
    "    \n",
    "stacked_cell = tf.contrib.rnn.MultiRNNCell([build_cell(num_units, keep_prob) for _ in range(num_layers)])\n",
    "```\n",
    "\n",
    "Even though this is actually multiple LSTM cells stacked on each other, you can treat the multiple layers as one cell.\n",
    "\n",
    "We also need to create an initial cell state of all zeros. This can be done like so\n",
    "\n",
    "```python\n",
    "initial_state = stacked_cell.zero_state(batch_size, tf.float32)\n",
    "```\n",
    "\n",
    "Below, we implement the `build_lstm` function to create these LSTM cells and the initial state."
   ]
  },
  {
   "cell_type": "code",
   "execution_count": 156,
   "metadata": {
    "collapsed": true
   },
   "outputs": [],
   "source": [
    "def build_lstm(lstm_size, num_layers, batch_size, keep_prob):\n",
    "    ''' Build LSTM cell.\n",
    "    \n",
    "        Arguments\n",
    "        ---------\n",
    "        keep_prob: Scalar tensor (tf.placeholder) for the dropout keep probability\n",
    "        lstm_size: Size of the hidden layers in the LSTM cells\n",
    "        num_layers: Number of LSTM layers\n",
    "        batch_size: Batch size\n",
    "\n",
    "    '''\n",
    "    ### Build the LSTM Cell (tf >= 1.1)\n",
    "    def build_cell(lstm_size, keep_prob):\n",
    "        lstm = tf.contrib.rnn.BasicLSTMCell(lstm_size)\n",
    "        drop = tf.contrib.rnn.DropoutWrapper(lstm, output_keep_prob=keep_prob)\n",
    "        return drop\n",
    "    \n",
    "#     ### Build the LSTM Cell (tf < 1.1)\n",
    "#     # Use a basic LSTM cell\n",
    "#     lstm =   \n",
    "#     # Add dropout to the cell outputs\n",
    "#     drop = \n",
    "    \n",
    "    # Stack up multiple LSTM layers, for deep learning\n",
    "    stacked_cell = tf.contrib.rnn.MultiRNNCell([build_cell(lstm_size, keep_prob) for _ in range(num_layers)])\n",
    "    initial_state = stacked_cell.zero_state(batch_size, tf.float32)\n",
    "    \n",
    "    return stacked_cell, initial_state"
   ]
  },
  {
   "cell_type": "markdown",
   "metadata": {},
   "source": [
    "### RNN Output\n",
    "\n",
    "Here we'll create the output layer. We need to connect the output of the RNN cells to a fully connected layer with a softmax output. The softmax output gives us a probability distribution we can use to predict the next character, so we want this layer to have size $C$, the number of classes/characters we have in our text.\n",
    "\n",
    "If our input has batch size $N$, number of steps $M$, and the hidden layer has $L$ hidden units, then the output is a 3D tensor with size $N \\times M \\times L$. The output of each LSTM cell has size $L$, we have $M$ of them, one for each sequence step, and we have $N$ sequences. So the total size is $N \\times M \\times L$. \n",
    "\n",
    "We are using the same fully connected layer, the same weights, for each of the outputs. Then, to make things easier, we should reshape the outputs into a 2D tensor with shape $(M * N) \\times L$. That is, one row for each sequence and step, where the values of each row are the output from the LSTM cells. We get the LSTM output as a list, `lstm_output`. First we need to concatenate this whole list into one array with [`tf.concat`](https://www.tensorflow.org/api_docs/python/tf/concat). Then, reshape it (with `tf.reshape`) to size $(M * N) \\times L$.\n",
    "\n",
    "Once we have the outputs reshaped, we can do the matrix multiplication with the weights. We need to wrap the weight and bias variables in a variable scope with `tf.variable_scope(scope_name)` because there are weights being created in the LSTM cells. TensorFlow will throw an error if the weights created here have the same names as the weights created in the LSTM cells, which they will be default. To avoid this, we wrap the variables in a variable scope so we can give them unique names.\n",
    "\n",
    "> **Exercise:** Implement the output layer in the function below."
   ]
  },
  {
   "cell_type": "code",
   "execution_count": 157,
   "metadata": {
    "collapsed": true
   },
   "outputs": [],
   "source": [
    "def build_output(lstm_output, in_size, out_size):\n",
    "    ''' Build a softmax layer, return the softmax output and logits.\n",
    "    \n",
    "        Arguments\n",
    "        ---------\n",
    "        \n",
    "        lstm_output: List of output tensors from the LSTM layer\n",
    "        in_size: Size of the input tensor, for example, size of the LSTM cells\n",
    "        out_size: Size of this softmax layer\n",
    "    \n",
    "    '''\n",
    "\n",
    "    # Reshape output so it's a bunch of rows, one row for each step for each sequence.\n",
    "    # Concatenate lstm_output over axis 1 (the columns)\n",
    "    seq_output = tf.concat(lstm_output, axis=1)\n",
    "    # Reshape seq_output to a 2D tensor with lstm_size columns\n",
    "    x = tf.reshape(seq_output, [-1, in_size])\n",
    "    \n",
    "    # Connect the RNN outputs to a softmax layer\n",
    "    with tf.variable_scope('softmax'):\n",
    "        # Create the weight and bias variables here\n",
    "        softmax_w = tf.Variable(tf.truncated_normal((in_size, out_size), stddev=0.1))\n",
    "        softmax_b = tf.Variable(tf.zeros(out_size))\n",
    "    \n",
    "    # Since output is a bunch of rows of RNN cell outputs, logits will be a bunch\n",
    "    # of rows of logit outputs, one for each step and sequence\n",
    "    logits = tf.matmul(x, softmax_w) + softmax_b\n",
    "    \n",
    "    # Use softmax to get the probabilities for predicted characters\n",
    "    out = tf.nn.softmax(logits, name=\"predictions\")\n",
    "    \n",
    "    return out, logits"
   ]
  },
  {
   "cell_type": "markdown",
   "metadata": {},
   "source": [
    "### Training loss\n",
    "\n",
    "Next up is the training loss. We get the logits and targets and calculate the softmax cross-entropy loss. First we need to one-hot encode the targets, we're getting them as encoded characters. Then, reshape the one-hot targets so it's a 2D tensor with size $(M*N) \\times C$ where $C$ is the number of classes/characters we have. Remember that we reshaped the LSTM outputs and ran them through a fully connected layer with $C$ units. So our logits will also have size $(M*N) \\times C$.\n",
    "\n",
    "Then we run the logits and targets through `tf.nn.softmax_cross_entropy_with_logits` and find the mean to get the loss.\n",
    "\n",
    ">**Exercise:** Implement the loss calculation in the function below."
   ]
  },
  {
   "cell_type": "code",
   "execution_count": 158,
   "metadata": {
    "collapsed": true
   },
   "outputs": [],
   "source": [
    "def build_loss(logits, targets, lstm_size, num_classes):\n",
    "    ''' Calculate the loss from the logits and the targets.\n",
    "    \n",
    "        Arguments\n",
    "        ---------\n",
    "        logits: Logits from final fully connected layer\n",
    "        targets: Targets for supervised learning\n",
    "        lstm_size: Number of LSTM hidden units\n",
    "        num_classes: Number of classes in targets\n",
    "        \n",
    "    '''\n",
    "    \n",
    "    # One-hot encode targets and reshape to match logits, one row per sequence per step\n",
    "    y_one_hot = tf.one_hot(targets, num_classes)\n",
    "    y_reshaped =  tf.reshape(y_one_hot, logits.get_shape())\n",
    "    \n",
    "    # Softmax cross entropy loss\n",
    "    loss = tf.nn.softmax_cross_entropy_with_logits(labels=y_reshaped, logits=logits)\n",
    "    loss = tf.reduce_mean(loss)\n",
    "    \n",
    "    return loss"
   ]
  },
  {
   "cell_type": "markdown",
   "metadata": {},
   "source": [
    "### Optimizer\n",
    "\n",
    "Here we build the optimizer. Normal RNNs have have issues gradients exploding and disappearing. LSTMs fix the disappearance problem, but the gradients can still grow without bound. To fix this, we can clip the gradients above some threshold. That is, if a gradient is larger than that threshold, we set it to the threshold. This will ensure the gradients never grow overly large. Then we use an AdamOptimizer for the learning step."
   ]
  },
  {
   "cell_type": "code",
   "execution_count": 159,
   "metadata": {
    "collapsed": true
   },
   "outputs": [],
   "source": [
    "def build_optimizer(loss, learning_rate, grad_clip):\n",
    "    ''' Build optmizer for training, using gradient clipping.\n",
    "    \n",
    "        Arguments:\n",
    "        loss: Network loss\n",
    "        learning_rate: Learning rate for optimizer\n",
    "    \n",
    "    '''\n",
    "    \n",
    "    # Optimizer for training, using gradient clipping to control exploding gradients\n",
    "    tvars = tf.trainable_variables()\n",
    "    grads, _ = tf.clip_by_global_norm(tf.gradients(loss, tvars), grad_clip)\n",
    "    train_op = tf.train.AdamOptimizer(learning_rate)\n",
    "    optimizer = train_op.apply_gradients(zip(grads, tvars))\n",
    "    \n",
    "    return optimizer"
   ]
  },
  {
   "cell_type": "markdown",
   "metadata": {},
   "source": [
    "### Build the network\n",
    "\n",
    "Now we can put all the pieces together and build a class for the network. To actually run data through the LSTM cells, we will use [`tf.nn.dynamic_rnn`](https://www.tensorflow.org/versions/r1.0/api_docs/python/tf/nn/dynamic_rnn). This function will pass the hidden and cell states across LSTM cells appropriately for us. It returns the outputs for each LSTM cell at each step for each sequence in the mini-batch. It also gives us the final LSTM state. We want to save this state as `final_state` so we can pass it to the first LSTM cell in the the next mini-batch run. For `tf.nn.dynamic_rnn`, we pass in the cell and initial state we get from `build_lstm`, as well as our input sequences. Also, we need to one-hot encode the inputs before going into the RNN. \n",
    "\n",
    "> **Exercise:** Use the functions you've implemented previously and `tf.nn.dynamic_rnn` to build the network."
   ]
  },
  {
   "cell_type": "code",
   "execution_count": 160,
   "metadata": {
    "collapsed": true
   },
   "outputs": [],
   "source": [
    "class CharRNN:\n",
    "    \n",
    "    def __init__(self, num_classes, batch_size=64, num_steps=50, \n",
    "                       lstm_size=128, num_layers=2, learning_rate=0.001, \n",
    "                       grad_clip=5, sampling=False):\n",
    "    \n",
    "        # When we're using this network for sampling later, we'll be passing in\n",
    "        # one character at a time, so providing an option for that\n",
    "        if sampling == True:\n",
    "            batch_size, num_steps = 1, 1\n",
    "        else:\n",
    "            batch_size, num_steps = batch_size, num_steps\n",
    "\n",
    "        tf.reset_default_graph()\n",
    "        \n",
    "        # Build the input placeholder tensors\n",
    "        self.inputs, self.targets, self.keep_prob = build_inputs(batch_size, num_steps)\n",
    "\n",
    "        # Build the LSTM cell\n",
    "        cell, self.initial_state = build_lstm(lstm_size, num_layers, batch_size, self.keep_prob)\n",
    "\n",
    "        ### Run the data through the RNN layers\n",
    "        # First, one-hot encode the input tokens\n",
    "        x_one_hot = tf.one_hot(self.inputs, num_classes)\n",
    "        \n",
    "        # Run each sequence step through the RNN with tf.nn.dynamic_rnn \n",
    "        outputs, state = tf.nn.dynamic_rnn(cell, x_one_hot, initial_state=self.initial_state)\n",
    "        self.final_state = state\n",
    "        \n",
    "        # Get softmax predictions and logits\n",
    "        self.prediction, self.logits = build_output(outputs, lstm_size, num_classes)\n",
    "        \n",
    "        # Loss and optimizer (with gradient clipping)\n",
    "        self.loss = build_loss(self.logits, self.targets, lstm_size, num_classes)\n",
    "        self.optimizer = build_optimizer(self.loss, learning_rate, grad_clip)"
   ]
  },
  {
   "cell_type": "markdown",
   "metadata": {},
   "source": [
    "## Hyperparameters\n",
    "\n",
    "Here are the hyperparameters for the network.\n",
    "\n",
    "* `batch_size` - Number of sequences running through the network in one pass.\n",
    "* `num_steps` - Number of characters in the sequence the network is trained on. Larger is better typically, the network will learn more long range dependencies. But it takes longer to train. 100 is typically a good number here.\n",
    "* `lstm_size` - The number of units in the hidden layers.\n",
    "* `num_layers` - Number of hidden LSTM layers to use\n",
    "* `learning_rate` - Learning rate for training\n",
    "* `keep_prob` - The dropout keep probability when training. If you're network is overfitting, try decreasing this.\n",
    "\n",
    "Here's some good advice from Andrej Karpathy on training the network. I'm going to copy it in here for your benefit, but also link to [where it originally came from](https://github.com/karpathy/char-rnn#tips-and-tricks).\n",
    "\n",
    "> ## Tips and Tricks\n",
    "\n",
    ">### Monitoring Validation Loss vs. Training Loss\n",
    ">If you're somewhat new to Machine Learning or Neural Networks it can take a bit of expertise to get good models. The most important quantity to keep track of is the difference between your training loss (printed during training) and the validation loss (printed once in a while when the RNN is run on the validation data (by default every 1000 iterations)). In particular:\n",
    "\n",
    "> - If your training loss is much lower than validation loss then this means the network might be **overfitting**. Solutions to this are to decrease your network size, or to increase dropout. For example you could try dropout of 0.5 and so on.\n",
    "> - If your training/validation loss are about equal then your model is **underfitting**. Increase the size of your model (either number of layers or the raw number of neurons per layer)\n",
    "\n",
    "> ### Approximate number of parameters\n",
    "\n",
    "> The two most important parameters that control the model are `lstm_size` and `num_layers`. I would advise that you always use `num_layers` of either 2/3. The `lstm_size` can be adjusted based on how much data you have. The two important quantities to keep track of here are:\n",
    "\n",
    "> - The number of parameters in your model. This is printed when you start training.\n",
    "> - The size of your dataset. 1MB file is approximately 1 million characters.\n",
    "\n",
    ">These two should be about the same order of magnitude. It's a little tricky to tell. Here are some examples:\n",
    "\n",
    "> - I have a 100MB dataset and I'm using the default parameter settings (which currently print 150K parameters). My data size is significantly larger (100 mil >> 0.15 mil), so I expect to heavily underfit. I am thinking I can comfortably afford to make `lstm_size` larger.\n",
    "> - I have a 10MB dataset and running a 10 million parameter model. I'm slightly nervous and I'm carefully monitoring my validation loss. If it's larger than my training loss then I may want to try to increase dropout a bit and see if that helps the validation loss.\n",
    "\n",
    "> ### Best models strategy\n",
    "\n",
    ">The winning strategy to obtaining very good models (if you have the compute time) is to always err on making the network larger (as large as you're willing to wait for it to compute) and then try different dropout values (between 0,1). Whatever model has the best validation performance (the loss, written in the checkpoint filename, low is good) is the one you should use in the end.\n",
    "\n",
    ">It is very common in deep learning to run many different models with many different hyperparameter settings, and in the end take whatever checkpoint gave the best validation performance.\n",
    "\n",
    ">By the way, the size of your training and validation splits are also parameters. Make sure you have a decent amount of data in your validation set or otherwise the validation performance will be noisy and not very informative."
   ]
  },
  {
   "cell_type": "code",
   "execution_count": 161,
   "metadata": {
    "collapsed": true
   },
   "outputs": [],
   "source": [
    "# batch_size = 10         # Sequences per batch\n",
    "# num_steps = 50          # Number of sequence steps per batch\n",
    "# lstm_size = 128         # Size of hidden layers in LSTMs\n",
    "batch_size = 100        # Sequences per batch\n",
    "num_steps = 100         # Number of sequence steps per batch\n",
    "lstm_size = 512         # Size of hidden layers in LSTMs\n",
    "num_layers = 2          # Number of LSTM layers\n",
    "learning_rate = 0.01    # Learning rate\n",
    "keep_prob = 0.5         # Dropout keep probability"
   ]
  },
  {
   "cell_type": "markdown",
   "metadata": {},
   "source": [
    "## Time for training\n",
    "\n",
    "This is typical training code, passing inputs and targets into the network, then running the optimizer. Here we also get back the final LSTM state for the mini-batch. Then, we pass that state back into the network so the next batch can continue the state from the previous batch. And every so often (set by `save_every_n`) I save a checkpoint.\n",
    "\n",
    "Here I'm saving checkpoints with the format\n",
    "\n",
    "`i{iteration number}_l{# hidden layer units}.ckpt`\n",
    "\n",
    "> **Exercise:** Set the hyperparameters above to train the network. Watch the training loss, it should be consistently dropping. Also, I highly advise running this on a GPU."
   ]
  },
  {
   "cell_type": "code",
   "execution_count": 162,
   "metadata": {
    "scrolled": false
   },
   "outputs": [
    {
     "name": "stdout",
     "output_type": "stream",
     "text": [
      "Epoch: 1/1...  Training Step: 1...  Training loss: 4.4212...  2.7817 sec/batch\n",
      "Epoch: 1/1...  Training Step: 2...  Training loss: 3.9839...  2.7066 sec/batch\n",
      "Epoch: 1/1...  Training Step: 3...  Training loss: 6.6794...  2.9392 sec/batch\n",
      "Epoch: 1/1...  Training Step: 4...  Training loss: 5.1344...  2.9145 sec/batch\n",
      "Epoch: 1/1...  Training Step: 5...  Training loss: 4.9234...  2.9284 sec/batch\n",
      "Epoch: 1/1...  Training Step: 6...  Training loss: 4.7687...  3.0150 sec/batch\n",
      "Epoch: 1/1...  Training Step: 7...  Training loss: 4.3673...  3.0391 sec/batch\n",
      "Epoch: 1/1...  Training Step: 8...  Training loss: 4.0522...  3.0414 sec/batch\n",
      "Epoch: 1/1...  Training Step: 9...  Training loss: 3.9671...  3.1216 sec/batch\n",
      "Epoch: 1/1...  Training Step: 10...  Training loss: 3.9927...  3.0874 sec/batch\n",
      "Epoch: 1/1...  Training Step: 11...  Training loss: 3.9318...  3.1213 sec/batch\n",
      "Epoch: 1/1...  Training Step: 12...  Training loss: 3.8379...  3.1197 sec/batch\n",
      "Epoch: 1/1...  Training Step: 13...  Training loss: 3.7587...  3.1281 sec/batch\n",
      "Epoch: 1/1...  Training Step: 14...  Training loss: 3.7739...  3.1925 sec/batch\n",
      "Epoch: 1/1...  Training Step: 15...  Training loss: 3.7805...  3.2694 sec/batch\n",
      "Epoch: 1/1...  Training Step: 16...  Training loss: 3.7335...  3.1706 sec/batch\n",
      "Epoch: 1/1...  Training Step: 17...  Training loss: 3.7076...  3.1691 sec/batch\n",
      "Epoch: 1/1...  Training Step: 18...  Training loss: 3.6952...  3.2331 sec/batch\n",
      "Epoch: 1/1...  Training Step: 19...  Training loss: 3.6273...  3.1603 sec/batch\n",
      "Epoch: 1/1...  Training Step: 20...  Training loss: 3.5412...  3.1938 sec/batch\n",
      "Epoch: 1/1...  Training Step: 21...  Training loss: 3.5590...  3.1761 sec/batch\n",
      "Epoch: 1/1...  Training Step: 22...  Training loss: 3.5839...  3.2328 sec/batch\n",
      "Epoch: 1/1...  Training Step: 23...  Training loss: 3.5428...  3.1914 sec/batch\n",
      "Epoch: 1/1...  Training Step: 24...  Training loss: 3.5199...  3.1927 sec/batch\n",
      "Epoch: 1/1...  Training Step: 25...  Training loss: 3.4807...  3.1653 sec/batch\n",
      "Epoch: 1/1...  Training Step: 26...  Training loss: 3.4783...  3.1575 sec/batch\n",
      "Epoch: 1/1...  Training Step: 27...  Training loss: 3.4630...  3.1479 sec/batch\n",
      "Epoch: 1/1...  Training Step: 28...  Training loss: 3.4483...  3.1972 sec/batch\n",
      "Epoch: 1/1...  Training Step: 29...  Training loss: 3.4209...  3.1334 sec/batch\n",
      "Epoch: 1/1...  Training Step: 30...  Training loss: 3.4393...  3.1393 sec/batch\n",
      "Epoch: 1/1...  Training Step: 31...  Training loss: 3.4316...  3.1117 sec/batch\n",
      "Epoch: 1/1...  Training Step: 32...  Training loss: 3.3887...  3.1602 sec/batch\n",
      "Epoch: 1/1...  Training Step: 33...  Training loss: 3.3653...  3.1297 sec/batch\n",
      "Epoch: 1/1...  Training Step: 34...  Training loss: 3.3810...  3.1211 sec/batch\n",
      "Epoch: 1/1...  Training Step: 35...  Training loss: 3.3384...  3.1302 sec/batch\n",
      "Epoch: 1/1...  Training Step: 36...  Training loss: 3.3617...  3.1026 sec/batch\n",
      "Epoch: 1/1...  Training Step: 37...  Training loss: 3.3202...  3.1628 sec/batch\n",
      "Epoch: 1/1...  Training Step: 38...  Training loss: 3.3198...  3.1498 sec/batch\n",
      "Epoch: 1/1...  Training Step: 39...  Training loss: 3.3003...  3.1507 sec/batch\n",
      "Epoch: 1/1...  Training Step: 40...  Training loss: 3.2885...  3.1129 sec/batch\n",
      "Epoch: 1/1...  Training Step: 41...  Training loss: 3.2691...  3.1219 sec/batch\n",
      "Epoch: 1/1...  Training Step: 42...  Training loss: 3.2584...  3.1098 sec/batch\n",
      "Epoch: 1/1...  Training Step: 43...  Training loss: 3.2524...  3.1315 sec/batch\n",
      "Epoch: 1/1...  Training Step: 44...  Training loss: 3.2557...  3.1102 sec/batch\n",
      "Epoch: 1/1...  Training Step: 45...  Training loss: 3.2538...  3.1186 sec/batch\n",
      "Epoch: 1/1...  Training Step: 46...  Training loss: 3.2629...  3.1088 sec/batch\n",
      "Epoch: 1/1...  Training Step: 47...  Training loss: 3.2546...  3.1061 sec/batch\n",
      "Epoch: 1/1...  Training Step: 48...  Training loss: 3.2494...  3.1518 sec/batch\n",
      "Epoch: 1/1...  Training Step: 49...  Training loss: 3.2484...  3.1737 sec/batch\n",
      "Epoch: 1/1...  Training Step: 50...  Training loss: 3.2257...  3.1036 sec/batch\n",
      "Epoch: 1/1...  Training Step: 51...  Training loss: 3.2171...  3.0894 sec/batch\n",
      "Epoch: 1/1...  Training Step: 52...  Training loss: 3.1986...  3.1263 sec/batch\n",
      "Epoch: 1/1...  Training Step: 53...  Training loss: 3.2114...  3.1496 sec/batch\n",
      "Epoch: 1/1...  Training Step: 54...  Training loss: 3.1980...  3.1246 sec/batch\n",
      "Epoch: 1/1...  Training Step: 55...  Training loss: 3.2071...  3.1389 sec/batch\n",
      "Epoch: 1/1...  Training Step: 56...  Training loss: 3.1806...  3.1590 sec/batch\n",
      "Epoch: 1/1...  Training Step: 57...  Training loss: 3.1907...  3.1256 sec/batch\n",
      "Epoch: 1/1...  Training Step: 58...  Training loss: 3.1915...  3.1468 sec/batch\n",
      "Epoch: 1/1...  Training Step: 59...  Training loss: 3.1742...  3.1460 sec/batch\n",
      "Epoch: 1/1...  Training Step: 60...  Training loss: 3.1839...  3.1504 sec/batch\n",
      "Epoch: 1/1...  Training Step: 61...  Training loss: 3.1841...  3.0951 sec/batch\n",
      "Epoch: 1/1...  Training Step: 62...  Training loss: 3.1984...  3.1115 sec/batch\n",
      "Epoch: 1/1...  Training Step: 63...  Training loss: 3.2009...  3.0964 sec/batch\n",
      "Epoch: 1/1...  Training Step: 64...  Training loss: 3.1482...  3.1238 sec/batch\n",
      "Epoch: 1/1...  Training Step: 65...  Training loss: 3.1520...  3.1419 sec/batch\n",
      "Epoch: 1/1...  Training Step: 66...  Training loss: 3.1749...  3.1630 sec/batch\n",
      "Epoch: 1/1...  Training Step: 67...  Training loss: 3.1778...  3.1676 sec/batch\n",
      "Epoch: 1/1...  Training Step: 68...  Training loss: 3.1162...  3.1509 sec/batch\n",
      "Epoch: 1/1...  Training Step: 69...  Training loss: 3.1417...  3.1360 sec/batch\n",
      "Epoch: 1/1...  Training Step: 70...  Training loss: 3.1630...  3.1001 sec/batch\n",
      "Epoch: 1/1...  Training Step: 71...  Training loss: 3.1525...  3.1306 sec/batch\n",
      "Epoch: 1/1...  Training Step: 72...  Training loss: 3.1716...  3.1773 sec/batch\n",
      "Epoch: 1/1...  Training Step: 73...  Training loss: 3.1452...  3.1241 sec/batch\n",
      "Epoch: 1/1...  Training Step: 74...  Training loss: 3.1598...  3.1425 sec/batch\n",
      "Epoch: 1/1...  Training Step: 75...  Training loss: 3.1593...  3.1448 sec/batch\n",
      "Epoch: 1/1...  Training Step: 76...  Training loss: 3.1639...  3.1801 sec/batch\n",
      "Epoch: 1/1...  Training Step: 77...  Training loss: 3.1523...  3.1504 sec/batch\n",
      "Epoch: 1/1...  Training Step: 78...  Training loss: 3.1544...  3.1210 sec/batch\n",
      "Epoch: 1/1...  Training Step: 79...  Training loss: 3.1448...  3.1273 sec/batch\n",
      "Epoch: 1/1...  Training Step: 80...  Training loss: 3.1304...  3.1053 sec/batch\n",
      "Epoch: 1/1...  Training Step: 81...  Training loss: 3.1283...  3.1743 sec/batch\n",
      "Epoch: 1/1...  Training Step: 82...  Training loss: 3.1515...  3.1252 sec/batch\n",
      "Epoch: 1/1...  Training Step: 83...  Training loss: 3.1520...  3.0953 sec/batch\n",
      "Epoch: 1/1...  Training Step: 84...  Training loss: 3.1379...  3.1549 sec/batch\n",
      "Epoch: 1/1...  Training Step: 85...  Training loss: 3.1214...  3.1446 sec/batch\n",
      "Epoch: 1/1...  Training Step: 86...  Training loss: 3.1299...  3.1654 sec/batch\n",
      "Epoch: 1/1...  Training Step: 87...  Training loss: 3.1229...  3.2173 sec/batch\n",
      "Epoch: 1/1...  Training Step: 88...  Training loss: 3.1240...  3.1512 sec/batch\n",
      "Epoch: 1/1...  Training Step: 89...  Training loss: 3.1447...  3.1376 sec/batch\n",
      "Epoch: 1/1...  Training Step: 90...  Training loss: 3.1372...  3.1551 sec/batch\n",
      "Epoch: 1/1...  Training Step: 91...  Training loss: 3.1489...  3.1471 sec/batch\n",
      "Epoch: 1/1...  Training Step: 92...  Training loss: 3.1312...  3.1621 sec/batch\n",
      "Epoch: 1/1...  Training Step: 93...  Training loss: 3.1327...  3.0915 sec/batch\n",
      "Epoch: 1/1...  Training Step: 94...  Training loss: 3.1369...  3.1570 sec/batch\n",
      "Epoch: 1/1...  Training Step: 95...  Training loss: 3.1285...  3.1548 sec/batch\n",
      "Epoch: 1/1...  Training Step: 96...  Training loss: 3.1237...  3.1376 sec/batch\n",
      "Epoch: 1/1...  Training Step: 97...  Training loss: 3.1397...  3.1496 sec/batch\n",
      "Epoch: 1/1...  Training Step: 98...  Training loss: 3.1297...  3.1403 sec/batch\n",
      "Epoch: 1/1...  Training Step: 99...  Training loss: 3.1371...  3.1187 sec/batch\n",
      "Epoch: 1/1...  Training Step: 100...  Training loss: 3.1238...  3.1265 sec/batch\n",
      "Epoch: 1/1...  Training Step: 101...  Training loss: 3.1383...  3.1283 sec/batch\n",
      "Epoch: 1/1...  Training Step: 102...  Training loss: 3.1340...  3.1514 sec/batch\n",
      "Epoch: 1/1...  Training Step: 103...  Training loss: 3.1342...  3.1334 sec/batch\n"
     ]
    },
    {
     "name": "stdout",
     "output_type": "stream",
     "text": [
      "Epoch: 1/1...  Training Step: 104...  Training loss: 3.1279...  3.1405 sec/batch\n",
      "Epoch: 1/1...  Training Step: 105...  Training loss: 3.1294...  3.1643 sec/batch\n",
      "Epoch: 1/1...  Training Step: 106...  Training loss: 3.1390...  3.1220 sec/batch\n",
      "Epoch: 1/1...  Training Step: 107...  Training loss: 3.1102...  3.1410 sec/batch\n",
      "Epoch: 1/1...  Training Step: 108...  Training loss: 3.1066...  3.1325 sec/batch\n",
      "Epoch: 1/1...  Training Step: 109...  Training loss: 3.1264...  3.1328 sec/batch\n",
      "Epoch: 1/1...  Training Step: 110...  Training loss: 3.1009...  3.3463 sec/batch\n",
      "Epoch: 1/1...  Training Step: 111...  Training loss: 3.1254...  3.1269 sec/batch\n",
      "Epoch: 1/1...  Training Step: 112...  Training loss: 3.1293...  3.1405 sec/batch\n",
      "Epoch: 1/1...  Training Step: 113...  Training loss: 3.1179...  3.1199 sec/batch\n",
      "Epoch: 1/1...  Training Step: 114...  Training loss: 3.1107...  3.1339 sec/batch\n",
      "Epoch: 1/1...  Training Step: 115...  Training loss: 3.1070...  3.1591 sec/batch\n",
      "Epoch: 1/1...  Training Step: 116...  Training loss: 3.1102...  3.1640 sec/batch\n",
      "Epoch: 1/1...  Training Step: 117...  Training loss: 3.1175...  3.1330 sec/batch\n",
      "Epoch: 1/1...  Training Step: 118...  Training loss: 3.1365...  3.1541 sec/batch\n",
      "Epoch: 1/1...  Training Step: 119...  Training loss: 3.1371...  3.7879 sec/batch\n",
      "Epoch: 1/1...  Training Step: 120...  Training loss: 3.1148...  4.2876 sec/batch\n",
      "Epoch: 1/1...  Training Step: 121...  Training loss: 3.1533...  3.1141 sec/batch\n",
      "Epoch: 1/1...  Training Step: 122...  Training loss: 3.1285...  3.1571 sec/batch\n",
      "Epoch: 1/1...  Training Step: 123...  Training loss: 3.1316...  3.1238 sec/batch\n",
      "Epoch: 1/1...  Training Step: 124...  Training loss: 3.1384...  3.1716 sec/batch\n",
      "Epoch: 1/1...  Training Step: 125...  Training loss: 3.1197...  3.1434 sec/batch\n",
      "Epoch: 1/1...  Training Step: 126...  Training loss: 3.1087...  3.1156 sec/batch\n",
      "Epoch: 1/1...  Training Step: 127...  Training loss: 3.1263...  3.1755 sec/batch\n",
      "Epoch: 1/1...  Training Step: 128...  Training loss: 3.1338...  3.1894 sec/batch\n",
      "Epoch: 1/1...  Training Step: 129...  Training loss: 3.1177...  3.1322 sec/batch\n",
      "Epoch: 1/1...  Training Step: 130...  Training loss: 3.1354...  3.1669 sec/batch\n",
      "Epoch: 1/1...  Training Step: 131...  Training loss: 3.1379...  3.1528 sec/batch\n",
      "Epoch: 1/1...  Training Step: 132...  Training loss: 3.1232...  3.1431 sec/batch\n",
      "Epoch: 1/1...  Training Step: 133...  Training loss: 3.1320...  3.1332 sec/batch\n",
      "Epoch: 1/1...  Training Step: 134...  Training loss: 3.1238...  3.1750 sec/batch\n",
      "Epoch: 1/1...  Training Step: 135...  Training loss: 3.0877...  3.1627 sec/batch\n",
      "Epoch: 1/1...  Training Step: 136...  Training loss: 3.0979...  3.1782 sec/batch\n",
      "Epoch: 1/1...  Training Step: 137...  Training loss: 3.1206...  3.1366 sec/batch\n",
      "Epoch: 1/1...  Training Step: 138...  Training loss: 3.1024...  3.1752 sec/batch\n",
      "Epoch: 1/1...  Training Step: 139...  Training loss: 3.1337...  3.1366 sec/batch\n",
      "Epoch: 1/1...  Training Step: 140...  Training loss: 3.1258...  3.1463 sec/batch\n",
      "Epoch: 1/1...  Training Step: 141...  Training loss: 3.1213...  3.1427 sec/batch\n",
      "Epoch: 1/1...  Training Step: 142...  Training loss: 3.1033...  3.2200 sec/batch\n",
      "Epoch: 1/1...  Training Step: 143...  Training loss: 3.1096...  3.1358 sec/batch\n",
      "Epoch: 1/1...  Training Step: 144...  Training loss: 3.1094...  3.1513 sec/batch\n",
      "Epoch: 1/1...  Training Step: 145...  Training loss: 3.1143...  3.1723 sec/batch\n",
      "Epoch: 1/1...  Training Step: 146...  Training loss: 3.1223...  3.1661 sec/batch\n",
      "Epoch: 1/1...  Training Step: 147...  Training loss: 3.1362...  3.1818 sec/batch\n",
      "Epoch: 1/1...  Training Step: 148...  Training loss: 3.1467...  3.1220 sec/batch\n",
      "Epoch: 1/1...  Training Step: 149...  Training loss: 3.1093...  3.1416 sec/batch\n",
      "Epoch: 1/1...  Training Step: 150...  Training loss: 3.1212...  3.1471 sec/batch\n",
      "Epoch: 1/1...  Training Step: 151...  Training loss: 3.1412...  3.1513 sec/batch\n",
      "Epoch: 1/1...  Training Step: 152...  Training loss: 3.1532...  3.1680 sec/batch\n",
      "Epoch: 1/1...  Training Step: 153...  Training loss: 3.1252...  3.1282 sec/batch\n",
      "Epoch: 1/1...  Training Step: 154...  Training loss: 3.1264...  3.1525 sec/batch\n",
      "Epoch: 1/1...  Training Step: 155...  Training loss: 3.1134...  3.1708 sec/batch\n",
      "Epoch: 1/1...  Training Step: 156...  Training loss: 3.1236...  3.1134 sec/batch\n",
      "Epoch: 1/1...  Training Step: 157...  Training loss: 3.1197...  3.1423 sec/batch\n",
      "Epoch: 1/1...  Training Step: 158...  Training loss: 3.1186...  3.1468 sec/batch\n",
      "Epoch: 1/1...  Training Step: 159...  Training loss: 3.0971...  3.0915 sec/batch\n",
      "Epoch: 1/1...  Training Step: 160...  Training loss: 3.1072...  3.1487 sec/batch\n",
      "Epoch: 1/1...  Training Step: 161...  Training loss: 3.1329...  3.2007 sec/batch\n",
      "Epoch: 1/1...  Training Step: 162...  Training loss: 3.0962...  3.1492 sec/batch\n",
      "Epoch: 1/1...  Training Step: 163...  Training loss: 3.0995...  3.1687 sec/batch\n",
      "Epoch: 1/1...  Training Step: 164...  Training loss: 3.1195...  3.1586 sec/batch\n",
      "Epoch: 1/1...  Training Step: 165...  Training loss: 3.1120...  3.1393 sec/batch\n",
      "Epoch: 1/1...  Training Step: 166...  Training loss: 3.1070...  3.1520 sec/batch\n",
      "Epoch: 1/1...  Training Step: 167...  Training loss: 3.1277...  3.1627 sec/batch\n",
      "Epoch: 1/1...  Training Step: 168...  Training loss: 3.1269...  3.1321 sec/batch\n",
      "Epoch: 1/1...  Training Step: 169...  Training loss: 3.1197...  3.1211 sec/batch\n",
      "Epoch: 1/1...  Training Step: 170...  Training loss: 3.1003...  3.1272 sec/batch\n",
      "Epoch: 1/1...  Training Step: 171...  Training loss: 3.1322...  3.1261 sec/batch\n",
      "Epoch: 1/1...  Training Step: 172...  Training loss: 3.1599...  3.1639 sec/batch\n",
      "Epoch: 1/1...  Training Step: 173...  Training loss: 3.1643...  3.1711 sec/batch\n",
      "Epoch: 1/1...  Training Step: 174...  Training loss: 3.1687...  3.1543 sec/batch\n",
      "Epoch: 1/1...  Training Step: 175...  Training loss: 3.1466...  3.1287 sec/batch\n",
      "Epoch: 1/1...  Training Step: 176...  Training loss: 3.1436...  3.1118 sec/batch\n",
      "Epoch: 1/1...  Training Step: 177...  Training loss: 3.1214...  3.1342 sec/batch\n",
      "Epoch: 1/1...  Training Step: 178...  Training loss: 3.1019...  3.1203 sec/batch\n",
      "Epoch: 1/1...  Training Step: 179...  Training loss: 3.1125...  3.1228 sec/batch\n",
      "Epoch: 1/1...  Training Step: 180...  Training loss: 3.0981...  3.1221 sec/batch\n",
      "Epoch: 1/1...  Training Step: 181...  Training loss: 3.1222...  3.1681 sec/batch\n",
      "Epoch: 1/1...  Training Step: 182...  Training loss: 3.1349...  3.1519 sec/batch\n",
      "Epoch: 1/1...  Training Step: 183...  Training loss: 3.1076...  3.1585 sec/batch\n",
      "Epoch: 1/1...  Training Step: 184...  Training loss: 3.1433...  3.1529 sec/batch\n",
      "Epoch: 1/1...  Training Step: 185...  Training loss: 3.1782...  3.1458 sec/batch\n",
      "Epoch: 1/1...  Training Step: 186...  Training loss: 3.1275...  3.1360 sec/batch\n",
      "Epoch: 1/1...  Training Step: 187...  Training loss: 3.1210...  3.1759 sec/batch\n",
      "Epoch: 1/1...  Training Step: 188...  Training loss: 3.1063...  3.1651 sec/batch\n",
      "Epoch: 1/1...  Training Step: 189...  Training loss: 3.1253...  3.1361 sec/batch\n",
      "Epoch: 1/1...  Training Step: 190...  Training loss: 3.1197...  3.1010 sec/batch\n",
      "Epoch: 1/1...  Training Step: 191...  Training loss: 3.1269...  3.1268 sec/batch\n",
      "Epoch: 1/1...  Training Step: 192...  Training loss: 3.0933...  3.1625 sec/batch\n",
      "Epoch: 1/1...  Training Step: 193...  Training loss: 3.1227...  3.1585 sec/batch\n",
      "Epoch: 1/1...  Training Step: 194...  Training loss: 3.1158...  3.1405 sec/batch\n",
      "Epoch: 1/1...  Training Step: 195...  Training loss: 3.0950...  3.1209 sec/batch\n",
      "Epoch: 1/1...  Training Step: 196...  Training loss: 3.1112...  3.1277 sec/batch\n",
      "Epoch: 1/1...  Training Step: 197...  Training loss: 3.1127...  3.1609 sec/batch\n",
      "Epoch: 1/1...  Training Step: 198...  Training loss: 3.1070...  3.1637 sec/batch\n",
      "4.3027849197387695\n"
     ]
    }
   ],
   "source": [
    "import time\n",
    "start = time.time()\n",
    "# %%timeit\n",
    "epochs = 1\n",
    "# epochs = 20\n",
    "# Save every N iterations\n",
    "save_every_n = 200\n",
    "\n",
    "model = CharRNN(len(vocab), batch_size=batch_size, num_steps=num_steps,\n",
    "                lstm_size=lstm_size, num_layers=num_layers, \n",
    "                learning_rate=learning_rate)\n",
    "\n",
    "saver = tf.train.Saver(max_to_keep=100)\n",
    "with tf.Session() as sess:\n",
    "    sess.run(tf.global_variables_initializer())\n",
    "    \n",
    "    # Use the line below to load a checkpoint and resume training\n",
    "    #saver.restore(sess, 'checkpoints/______.ckpt')\n",
    "    counter = 0\n",
    "    for e in range(epochs):\n",
    "        # Train network\n",
    "        new_state = sess.run(model.initial_state)\n",
    "        loss = 0\n",
    "        for x, y in get_batches(encoded, batch_size, num_steps):\n",
    "            counter += 1\n",
    "            start = time.time()\n",
    "            feed = {model.inputs: x,\n",
    "                    model.targets: y,\n",
    "                    model.keep_prob: keep_prob,\n",
    "                    model.initial_state: new_state}\n",
    "            batch_loss, new_state, _ = sess.run([model.loss, \n",
    "                                                 model.final_state, \n",
    "                                                 model.optimizer], \n",
    "                                                 feed_dict=feed)\n",
    "            \n",
    "            end = time.time()\n",
    "            print('Epoch: {}/{}... '.format(e+1, epochs),\n",
    "                  'Training Step: {}... '.format(counter),\n",
    "                  'Training loss: {:.4f}... '.format(batch_loss),\n",
    "                  '{:.4f} sec/batch'.format((end-start)))\n",
    "        \n",
    "            if (counter % save_every_n == 0):\n",
    "                saver.save(sess, \"checkpoints/i{}_l{}.ckpt\".format(counter, lstm_size))\n",
    "    \n",
    "    saver.save(sess, \"checkpoints/i{}_l{}.ckpt\".format(counter, lstm_size))\n",
    "    \n",
    "end = time.time()\n",
    "print(end-start)"
   ]
  },
  {
   "cell_type": "code",
   "execution_count": 163,
   "metadata": {},
   "outputs": [
    {
     "name": "stdout",
     "output_type": "stream",
     "text": [
      "How long does this take?\n",
      "0.00043702125549316406\n"
     ]
    }
   ],
   "source": [
    "s=time.time()\n",
    "print(\"How long does this take?\")\n",
    "e=time.time()\n",
    "print(e-s)"
   ]
  },
  {
   "cell_type": "markdown",
   "metadata": {},
   "source": [
    "#### Saved checkpoints\n",
    "\n",
    "Read up on saving and loading checkpoints here: https://www.tensorflow.org/programmers_guide/variables"
   ]
  },
  {
   "cell_type": "code",
   "execution_count": null,
   "metadata": {
    "collapsed": true
   },
   "outputs": [],
   "source": [
    "tf.train.get_checkpoint_state('checkpoints')"
   ]
  },
  {
   "cell_type": "markdown",
   "metadata": {},
   "source": [
    "## Sampling\n",
    "\n",
    "Now that the network is trained, we'll can use it to generate new text. The idea is that we pass in a character, then the network will predict the next character. We can use the new one, to predict the next one. And we keep doing this to generate all new text. I also included some functionality to prime the network with some text by passing in a string and building up a state from that.\n",
    "\n",
    "The network gives us predictions for each character. To reduce noise and make things a little less random, I'm going to only choose a new character from the top N most likely characters.\n",
    "\n"
   ]
  },
  {
   "cell_type": "code",
   "execution_count": null,
   "metadata": {
    "collapsed": true
   },
   "outputs": [],
   "source": [
    "def pick_top_n(preds, vocab_size, top_n=5):\n",
    "    p = np.squeeze(preds)\n",
    "    p[np.argsort(p)[:-top_n]] = 0\n",
    "    p = p / np.sum(p)\n",
    "    c = np.random.choice(vocab_size, 1, p=p)[0]\n",
    "    return c"
   ]
  },
  {
   "cell_type": "code",
   "execution_count": null,
   "metadata": {
    "collapsed": true
   },
   "outputs": [],
   "source": [
    "def sample(checkpoint, n_samples, lstm_size, vocab_size, prime=\"The \"):\n",
    "    samples = [c for c in prime]\n",
    "    model = CharRNN(len(vocab), lstm_size=lstm_size, sampling=True)\n",
    "    saver = tf.train.Saver()\n",
    "    with tf.Session() as sess:\n",
    "        saver.restore(sess, checkpoint)\n",
    "        new_state = sess.run(model.initial_state)\n",
    "        for c in prime:\n",
    "            x = np.zeros((1, 1))\n",
    "            x[0,0] = vocab_to_int[c]\n",
    "            feed = {model.inputs: x,\n",
    "                    model.keep_prob: 1.,\n",
    "                    model.initial_state: new_state}\n",
    "            preds, new_state = sess.run([model.prediction, model.final_state], \n",
    "                                         feed_dict=feed)\n",
    "\n",
    "        c = pick_top_n(preds, len(vocab))\n",
    "        samples.append(int_to_vocab[c])\n",
    "\n",
    "        for i in range(n_samples):\n",
    "            x[0,0] = c\n",
    "            feed = {model.inputs: x,\n",
    "                    model.keep_prob: 1.,\n",
    "                    model.initial_state: new_state}\n",
    "            preds, new_state = sess.run([model.prediction, model.final_state], \n",
    "                                         feed_dict=feed)\n",
    "\n",
    "            c = pick_top_n(preds, len(vocab))\n",
    "            samples.append(int_to_vocab[c])\n",
    "        \n",
    "    return ''.join(samples)"
   ]
  },
  {
   "cell_type": "markdown",
   "metadata": {},
   "source": [
    "Here, pass in the path to a checkpoint and sample from the network."
   ]
  },
  {
   "cell_type": "code",
   "execution_count": null,
   "metadata": {
    "collapsed": true
   },
   "outputs": [],
   "source": [
    "tf.train.latest_checkpoint('checkpoints')"
   ]
  },
  {
   "cell_type": "code",
   "execution_count": null,
   "metadata": {
    "collapsed": true
   },
   "outputs": [],
   "source": [
    "checkpoint = tf.train.latest_checkpoint('checkpoints')\n",
    "samp = sample(checkpoint, 2000, lstm_size, len(vocab), prime=\"Far\")\n",
    "print(samp)"
   ]
  },
  {
   "cell_type": "code",
   "execution_count": null,
   "metadata": {
    "collapsed": true
   },
   "outputs": [],
   "source": [
    "checkpoint = 'checkpoints/i200_l512.ckpt'\n",
    "samp = sample(checkpoint, 1000, lstm_size, len(vocab), prime=\"Far\")\n",
    "print(samp)"
   ]
  },
  {
   "cell_type": "code",
   "execution_count": null,
   "metadata": {
    "collapsed": true
   },
   "outputs": [],
   "source": [
    "checkpoint = 'checkpoints/i600_l512.ckpt'\n",
    "samp = sample(checkpoint, 1000, lstm_size, len(vocab), prime=\"Far\")\n",
    "print(samp)"
   ]
  },
  {
   "cell_type": "code",
   "execution_count": null,
   "metadata": {
    "collapsed": true
   },
   "outputs": [],
   "source": [
    "checkpoint = 'checkpoints/i1200_l512.ckpt'\n",
    "samp = sample(checkpoint, 1000, lstm_size, len(vocab), prime=\"Far\")\n",
    "print(samp)"
   ]
  }
 ],
 "metadata": {
  "kernelspec": {
   "display_name": "Python 3",
   "language": "python",
   "name": "python3"
  },
  "language_info": {
   "codemirror_mode": {
    "name": "ipython",
    "version": 3
   },
   "file_extension": ".py",
   "mimetype": "text/x-python",
   "name": "python",
   "nbconvert_exporter": "python",
   "pygments_lexer": "ipython3",
   "version": "3.5.3"
  }
 },
 "nbformat": 4,
 "nbformat_minor": 2
}
